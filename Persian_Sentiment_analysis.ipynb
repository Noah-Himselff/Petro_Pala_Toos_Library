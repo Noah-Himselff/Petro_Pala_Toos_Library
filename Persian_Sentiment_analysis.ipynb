{
  "cells": [
    {
      "cell_type": "code",
      "execution_count": 1,
      "metadata": {
        "id": "Vkrn9LWeO_BF"
      },
      "outputs": [],
      "source": [
        "import os\n",
        "from docx import Document\n",
        "import pandas as pd\n",
        "import re\n",
        "import joblib"
      ]
    },
    {
      "cell_type": "code",
      "execution_count": 41,
      "metadata": {
        "id": "5ipSnpvNPEwl"
      },
      "outputs": [],
      "source": [
        "# تابع باز کردن فایل ها با کمی تغییرات\n",
        "def open_file(file_path):\n",
        "    file_name, file_ext = os.path.splitext(file_path)\n",
        "\n",
        "    if file_ext == '.doc' or file_ext == '.docx':\n",
        "        document = Document(file_path)\n",
        "        full_text = \"\\n\".join([paragraph.text for paragraph in document.paragraphs])\n",
        "        return full_text\n",
        "    elif file_ext == '.csv':\n",
        "        df = pd.read_csv(file_path, delimiter='\\t', on_bad_lines='skip',encoding=\"utf-8\", quoting=1)\n",
        "        return df\n",
        "    elif file_ext == '.dat':\n",
        "        df = pd.read_csv(file_path,delimiter='\\t', header=None)\n",
        "        return df\n",
        "    elif file_path.endswith('.txt'):\n",
        "        with open(file_path, 'r') as file:\n",
        "            data = file.read()\n",
        "            return data\n",
        "    else:\n",
        "        print(f\"Unsupported file format for: {file_path}\")\n",
        "        return None"
      ]
    },
    {
      "cell_type": "code",
      "execution_count": 42,
      "metadata": {
        "id": "yLWmuN4Tjge2"
      },
      "outputs": [],
      "source": [
        "# این فانکشن برای تبدیل فاصله در افعال و جمع ها به نیم فاصله میباشد و برای ریشه یابی مناسب است\n",
        "# از این فانکشن در تست آخر به دلیل ماهیت برنامه استفاده نشده\n",
        "def convert_to_half_space(text):\n",
        "  converted_text = re.sub(r'(?<=\\S) (?=ها\\b)', '‌', text)\n",
        "  converted_text = re.sub(r'(?<=می) (?=\\S)', '‌', converted_text)\n",
        "  return converted_text"
      ]
    },
    {
      "cell_type": "code",
      "execution_count": 43,
      "metadata": {
        "id": "nJs_n_rh5tYt"
      },
      "outputs": [],
      "source": [
        "# تصحیح کلماتی نظیر عالللللیه که در آن نویسنده از شکل اشتباهی برای بیان احساسات استفاده کرده\n",
        "def remove_consecutive_duplicates2(comment_list):\n",
        "    modified_comments = []\n",
        "\n",
        "    for text in comment_list:\n",
        "        result = \"\"\n",
        "        previous_char = None\n",
        "\n",
        "        for char in text:\n",
        "            if char != previous_char:\n",
        "                result += char\n",
        "            previous_char = char\n",
        "\n",
        "        modified_comments.append(result)\n",
        "\n",
        "    return modified_comments"
      ]
    },
    {
      "cell_type": "code",
      "execution_count": 44,
      "metadata": {
        "colab": {
          "base_uri": "https://localhost:8080/"
        },
        "id": "K9TxcEi48a0v",
        "outputId": "96722c79-1554-4988-ebf1-10302783124c"
      },
      "outputs": [
        {
          "data": {
            "text/plain": [
              "['این یک جمله خفن است', 'این یک جمله نیست.', 'این جمله ها قابل تغییر است']"
            ]
          },
          "execution_count": 44,
          "metadata": {},
          "output_type": "execute_result"
        }
      ],
      "source": [
        "# تغییر جمله ی محاوره ی به شکل درست فعل+است\n",
        "def modify_sentences(sentences):\n",
        "    modified_sentences = []\n",
        "    for sentence in sentences:\n",
        "        words = sentence.split()\n",
        "        if words[-1].endswith('ه'):\n",
        "            words[-1] = words[-1][:-1]+ ' ' + 'است'\n",
        "        modified_sentences.append(' '.join(words))\n",
        "    return modified_sentences\n",
        "\n",
        "# مثال\n",
        "tokenized_sentences = ['این یک جمله خفنه', 'این یک جمله نیست.','این جمله ها قابل تغییره']\n",
        "modified_sentencesss = modify_sentences(tokenized_sentences)\n",
        "modified_sentencesss\n"
      ]
    },
    {
      "cell_type": "code",
      "execution_count": 45,
      "metadata": {
        "id": "N-2lE71GNWZ1"
      },
      "outputs": [],
      "source": [
        "# تصحیح فاصله ها\n",
        "def fix_half_space(text):\n",
        "    half_space = \"\\u200C\"\n",
        "    normal_space = \" \"\n",
        "\n",
        "    fixed_text = text.replace(half_space, normal_space)\n",
        "    return fixed_text"
      ]
    },
    {
      "cell_type": "markdown",
      "metadata": {
        "id": "R_Cs0hi0N1GO"
      },
      "source": [
        "استاپ ورد ها"
      ]
    },
    {
      "cell_type": "code",
      "execution_count": 46,
      "metadata": {
        "id": "UOnLeLLlP2Sk"
      },
      "outputs": [],
      "source": [
        "stop_words=open_file(r'C:\\Users\\user\\Downloads\\stopwords.dat')"
      ]
    },
    {
      "cell_type": "code",
      "execution_count": 47,
      "metadata": {
        "colab": {
          "base_uri": "https://localhost:8080/",
          "height": 206
        },
        "id": "WejRw0D_OA3s",
        "outputId": "360e5b9e-3dbd-441b-ac1a-3ef20d0bd2b7"
      },
      "outputs": [
        {
          "data": {
            "text/html": [
              "<div>\n",
              "<style scoped>\n",
              "    .dataframe tbody tr th:only-of-type {\n",
              "        vertical-align: middle;\n",
              "    }\n",
              "\n",
              "    .dataframe tbody tr th {\n",
              "        vertical-align: top;\n",
              "    }\n",
              "\n",
              "    .dataframe thead th {\n",
              "        text-align: right;\n",
              "    }\n",
              "</style>\n",
              "<table border=\"1\" class=\"dataframe\">\n",
              "  <thead>\n",
              "    <tr style=\"text-align: right;\">\n",
              "      <th></th>\n",
              "      <th>0</th>\n",
              "    </tr>\n",
              "  </thead>\n",
              "  <tbody>\n",
              "    <tr>\n",
              "      <th>384</th>\n",
              "      <td>می‌یابد</td>\n",
              "    </tr>\n",
              "    <tr>\n",
              "      <th>385</th>\n",
              "      <td>لذا</td>\n",
              "    </tr>\n",
              "    <tr>\n",
              "      <th>386</th>\n",
              "      <td>زاده</td>\n",
              "    </tr>\n",
              "    <tr>\n",
              "      <th>387</th>\n",
              "      <td>گردد</td>\n",
              "    </tr>\n",
              "    <tr>\n",
              "      <th>388</th>\n",
              "      <td>اینجا</td>\n",
              "    </tr>\n",
              "  </tbody>\n",
              "</table>\n",
              "</div>"
            ],
            "text/plain": [
              "           0\n",
              "384  می‌یابد\n",
              "385      لذا\n",
              "386     زاده\n",
              "387     گردد\n",
              "388    اینجا"
            ]
          },
          "execution_count": 47,
          "metadata": {},
          "output_type": "execute_result"
        }
      ],
      "source": [
        "stop_words.tail(5)"
      ]
    },
    {
      "cell_type": "code",
      "execution_count": 48,
      "metadata": {
        "id": "OCelzCghOAPz"
      },
      "outputs": [],
      "source": [
        "# تغییر لیست استاپ ورد ها در صورت نیاز زیرا در تست استفاده از تمامی کلات استاپ ورد تاثیر منفی در پردازش جمله داشت\n",
        "#بسته به نیاز مسئله میتوان لیست اندیس هارا تغییر داد\n",
        "indicies = [0,1,2,3,4,5,6,7,8,9,10,11,12,13,14,15,16,17,20,23,31,33,46,49,68,72,77,90,102,109,388]\n",
        "final_stop_words = stop_words.loc[indicies]\n",
        "final_stop_words=final_stop_words.reset_index(drop=True)"
      ]
    },
    {
      "cell_type": "code",
      "execution_count": null,
      "metadata": {
        "id": "V-ufWRUHN23b"
      },
      "outputs": [],
      "source": []
    },
    {
      "cell_type": "code",
      "execution_count": 49,
      "metadata": {
        "id": "pLhKP8bKDnsQ"
      },
      "outputs": [],
      "source": [
        "def remove_stop_words(comment_column):\n",
        "    stop_words = final_stop_words  \n",
        "    words = comment_column.str.split()\n",
        "    words = words.apply(lambda word_list: [word for word in word_list if word not in stop_words.iloc[:, 0].tolist()])\n",
        "    return words.apply(lambda word_list: ' '.join(word_list))\n"
      ]
    },
    {
      "cell_type": "code",
      "execution_count": 50,
      "metadata": {
        "id": "lByt1q9M6g8J"
      },
      "outputs": [],
      "source": [
        "df = open_file(r\"C:\\Users\\user\\Downloads\\Snappfood - Sentiment Analysis.csv\")"
      ]
    },
    {
      "cell_type": "code",
      "execution_count": 51,
      "metadata": {},
      "outputs": [
        {
          "data": {
            "text/html": [
              "<div>\n",
              "<style scoped>\n",
              "    .dataframe tbody tr th:only-of-type {\n",
              "        vertical-align: middle;\n",
              "    }\n",
              "\n",
              "    .dataframe tbody tr th {\n",
              "        vertical-align: top;\n",
              "    }\n",
              "\n",
              "    .dataframe thead th {\n",
              "        text-align: right;\n",
              "    }\n",
              "</style>\n",
              "<table border=\"1\" class=\"dataframe\">\n",
              "  <thead>\n",
              "    <tr style=\"text-align: right;\">\n",
              "      <th></th>\n",
              "      <th>Unnamed: 0</th>\n",
              "      <th>comment</th>\n",
              "      <th>label</th>\n",
              "      <th>label_id</th>\n",
              "    </tr>\n",
              "  </thead>\n",
              "  <tbody>\n",
              "    <tr>\n",
              "      <th>0</th>\n",
              "      <td>NaN</td>\n",
              "      <td>واقعا حیف وقت که بنویسم سرویس دهیتون شده افتضاح</td>\n",
              "      <td>SAD</td>\n",
              "      <td>1.0</td>\n",
              "    </tr>\n",
              "    <tr>\n",
              "      <th>1</th>\n",
              "      <td>NaN</td>\n",
              "      <td>قرار بود ۱ ساعته برسه ولی نیم ساعت زودتر از مو...</td>\n",
              "      <td>HAPPY</td>\n",
              "      <td>0.0</td>\n",
              "    </tr>\n",
              "    <tr>\n",
              "      <th>2</th>\n",
              "      <td>NaN</td>\n",
              "      <td>قیمت این مدل اصلا با کیفیتش سازگاری نداره، فقط...</td>\n",
              "      <td>SAD</td>\n",
              "      <td>1.0</td>\n",
              "    </tr>\n",
              "    <tr>\n",
              "      <th>3</th>\n",
              "      <td>NaN</td>\n",
              "      <td>عالللی بود همه چه درست و به اندازه و کیفیت خوب...</td>\n",
              "      <td>HAPPY</td>\n",
              "      <td>0.0</td>\n",
              "    </tr>\n",
              "    <tr>\n",
              "      <th>4</th>\n",
              "      <td>NaN</td>\n",
              "      <td>شیرینی وانیلی فقط یک مدل بود.</td>\n",
              "      <td>HAPPY</td>\n",
              "      <td>0.0</td>\n",
              "    </tr>\n",
              "    <tr>\n",
              "      <th>...</th>\n",
              "      <td>...</td>\n",
              "      <td>...</td>\n",
              "      <td>...</td>\n",
              "      <td>...</td>\n",
              "    </tr>\n",
              "    <tr>\n",
              "      <th>69620</th>\n",
              "      <td>NaN</td>\n",
              "      <td>سلام من به فاکتور غذاهایی که سفارش میدم احتیاج...</td>\n",
              "      <td>SAD</td>\n",
              "      <td>1.0</td>\n",
              "    </tr>\n",
              "    <tr>\n",
              "      <th>69621</th>\n",
              "      <td>NaN</td>\n",
              "      <td>سایز پیتزا نسبت به سفارشاتی که قبلا گذشتم کم ش...</td>\n",
              "      <td>SAD</td>\n",
              "      <td>1.0</td>\n",
              "    </tr>\n",
              "    <tr>\n",
              "      <th>69622</th>\n",
              "      <td>NaN</td>\n",
              "      <td>من قارچ اضافه رو اضافه کرده بودم بودم اما اگر ...</td>\n",
              "      <td>HAPPY</td>\n",
              "      <td>0.0</td>\n",
              "    </tr>\n",
              "    <tr>\n",
              "      <th>69623</th>\n",
              "      <td>NaN</td>\n",
              "      <td>همرو بعد ۲ساعت تاخیر اشتباه آوردن پولشم رفت رو...</td>\n",
              "      <td>SAD</td>\n",
              "      <td>1.0</td>\n",
              "    </tr>\n",
              "    <tr>\n",
              "      <th>69624</th>\n",
              "      <td>NaN</td>\n",
              "      <td>فلفلش خییییلی تند بود.</td>\n",
              "      <td>HAPPY</td>\n",
              "      <td>0.0</td>\n",
              "    </tr>\n",
              "  </tbody>\n",
              "</table>\n",
              "<p>69625 rows × 4 columns</p>\n",
              "</div>"
            ],
            "text/plain": [
              "      Unnamed: 0                                            comment  label  \\\n",
              "0            NaN    واقعا حیف وقت که بنویسم سرویس دهیتون شده افتضاح    SAD   \n",
              "1            NaN  قرار بود ۱ ساعته برسه ولی نیم ساعت زودتر از مو...  HAPPY   \n",
              "2            NaN  قیمت این مدل اصلا با کیفیتش سازگاری نداره، فقط...    SAD   \n",
              "3            NaN  عالللی بود همه چه درست و به اندازه و کیفیت خوب...  HAPPY   \n",
              "4            NaN                      شیرینی وانیلی فقط یک مدل بود.  HAPPY   \n",
              "...          ...                                                ...    ...   \n",
              "69620        NaN  سلام من به فاکتور غذاهایی که سفارش میدم احتیاج...    SAD   \n",
              "69621        NaN  سایز پیتزا نسبت به سفارشاتی که قبلا گذشتم کم ش...    SAD   \n",
              "69622        NaN  من قارچ اضافه رو اضافه کرده بودم بودم اما اگر ...  HAPPY   \n",
              "69623        NaN  همرو بعد ۲ساعت تاخیر اشتباه آوردن پولشم رفت رو...    SAD   \n",
              "69624        NaN                             فلفلش خییییلی تند بود.  HAPPY   \n",
              "\n",
              "       label_id  \n",
              "0           1.0  \n",
              "1           0.0  \n",
              "2           1.0  \n",
              "3           0.0  \n",
              "4           0.0  \n",
              "...         ...  \n",
              "69620       1.0  \n",
              "69621       1.0  \n",
              "69622       0.0  \n",
              "69623       1.0  \n",
              "69624       0.0  \n",
              "\n",
              "[69625 rows x 4 columns]"
            ]
          },
          "execution_count": 51,
          "metadata": {},
          "output_type": "execute_result"
        }
      ],
      "source": [
        "df"
      ]
    },
    {
      "cell_type": "code",
      "execution_count": 52,
      "metadata": {
        "id": "mcFt_-Va9YcR"
      },
      "outputs": [],
      "source": [
        "df=df.drop('Unnamed: 0',axis=1)"
      ]
    },
    {
      "cell_type": "code",
      "execution_count": 53,
      "metadata": {
        "id": "PO4Z9Gq4L8QW"
      },
      "outputs": [],
      "source": [
        "df = df.dropna()"
      ]
    },
    {
      "cell_type": "code",
      "execution_count": 54,
      "metadata": {
        "id": "GLL7StQe91xK"
      },
      "outputs": [],
      "source": [
        "df['comment'] = modify_sentences(df['comment'])"
      ]
    },
    {
      "cell_type": "code",
      "execution_count": 55,
      "metadata": {
        "colab": {
          "base_uri": "https://localhost:8080/",
          "height": 423
        },
        "id": "6UuE1jmKAORG",
        "outputId": "89e583ac-ea1c-422e-d4c5-9b25319d83f9"
      },
      "outputs": [
        {
          "data": {
            "text/html": [
              "<div>\n",
              "<style scoped>\n",
              "    .dataframe tbody tr th:only-of-type {\n",
              "        vertical-align: middle;\n",
              "    }\n",
              "\n",
              "    .dataframe tbody tr th {\n",
              "        vertical-align: top;\n",
              "    }\n",
              "\n",
              "    .dataframe thead th {\n",
              "        text-align: right;\n",
              "    }\n",
              "</style>\n",
              "<table border=\"1\" class=\"dataframe\">\n",
              "  <thead>\n",
              "    <tr style=\"text-align: right;\">\n",
              "      <th></th>\n",
              "      <th>comment</th>\n",
              "      <th>label</th>\n",
              "      <th>label_id</th>\n",
              "    </tr>\n",
              "  </thead>\n",
              "  <tbody>\n",
              "    <tr>\n",
              "      <th>0</th>\n",
              "      <td>واقعا حیف وقت که بنویسم سرویس دهیتون شده افتضاح</td>\n",
              "      <td>SAD</td>\n",
              "      <td>1.0</td>\n",
              "    </tr>\n",
              "    <tr>\n",
              "      <th>1</th>\n",
              "      <td>قرار بود ۱ ساعته برسه ولی نیم ساعت زودتر از مو...</td>\n",
              "      <td>HAPPY</td>\n",
              "      <td>0.0</td>\n",
              "    </tr>\n",
              "    <tr>\n",
              "      <th>2</th>\n",
              "      <td>قیمت این مدل اصلا با کیفیتش سازگاری نداره، فقط...</td>\n",
              "      <td>SAD</td>\n",
              "      <td>1.0</td>\n",
              "    </tr>\n",
              "    <tr>\n",
              "      <th>3</th>\n",
              "      <td>عالللی بود همه چه درست و به اندازه و کیفیت خوب...</td>\n",
              "      <td>HAPPY</td>\n",
              "      <td>0.0</td>\n",
              "    </tr>\n",
              "    <tr>\n",
              "      <th>4</th>\n",
              "      <td>شیرینی وانیلی فقط یک مدل بود.</td>\n",
              "      <td>HAPPY</td>\n",
              "      <td>0.0</td>\n",
              "    </tr>\n",
              "    <tr>\n",
              "      <th>...</th>\n",
              "      <td>...</td>\n",
              "      <td>...</td>\n",
              "      <td>...</td>\n",
              "    </tr>\n",
              "    <tr>\n",
              "      <th>69620</th>\n",
              "      <td>سلام من به فاکتور غذاهایی که سفارش میدم احتیاج...</td>\n",
              "      <td>SAD</td>\n",
              "      <td>1.0</td>\n",
              "    </tr>\n",
              "    <tr>\n",
              "      <th>69621</th>\n",
              "      <td>سایز پیتزا نسبت به سفارشاتی که قبلا گذشتم کم ش...</td>\n",
              "      <td>SAD</td>\n",
              "      <td>1.0</td>\n",
              "    </tr>\n",
              "    <tr>\n",
              "      <th>69622</th>\n",
              "      <td>من قارچ اضافه رو اضافه کرده بودم بودم اما اگر ...</td>\n",
              "      <td>HAPPY</td>\n",
              "      <td>0.0</td>\n",
              "    </tr>\n",
              "    <tr>\n",
              "      <th>69623</th>\n",
              "      <td>همرو بعد ۲ساعت تاخیر اشتباه آوردن پولشم رفت رو...</td>\n",
              "      <td>SAD</td>\n",
              "      <td>1.0</td>\n",
              "    </tr>\n",
              "    <tr>\n",
              "      <th>69624</th>\n",
              "      <td>فلفلش خییییلی تند بود.</td>\n",
              "      <td>HAPPY</td>\n",
              "      <td>0.0</td>\n",
              "    </tr>\n",
              "  </tbody>\n",
              "</table>\n",
              "<p>69107 rows × 3 columns</p>\n",
              "</div>"
            ],
            "text/plain": [
              "                                                 comment  label  label_id\n",
              "0        واقعا حیف وقت که بنویسم سرویس دهیتون شده افتضاح    SAD       1.0\n",
              "1      قرار بود ۱ ساعته برسه ولی نیم ساعت زودتر از مو...  HAPPY       0.0\n",
              "2      قیمت این مدل اصلا با کیفیتش سازگاری نداره، فقط...    SAD       1.0\n",
              "3      عالللی بود همه چه درست و به اندازه و کیفیت خوب...  HAPPY       0.0\n",
              "4                          شیرینی وانیلی فقط یک مدل بود.  HAPPY       0.0\n",
              "...                                                  ...    ...       ...\n",
              "69620  سلام من به فاکتور غذاهایی که سفارش میدم احتیاج...    SAD       1.0\n",
              "69621  سایز پیتزا نسبت به سفارشاتی که قبلا گذشتم کم ش...    SAD       1.0\n",
              "69622  من قارچ اضافه رو اضافه کرده بودم بودم اما اگر ...  HAPPY       0.0\n",
              "69623  همرو بعد ۲ساعت تاخیر اشتباه آوردن پولشم رفت رو...    SAD       1.0\n",
              "69624                             فلفلش خییییلی تند بود.  HAPPY       0.0\n",
              "\n",
              "[69107 rows x 3 columns]"
            ]
          },
          "execution_count": 55,
          "metadata": {},
          "output_type": "execute_result"
        }
      ],
      "source": [
        "df"
      ]
    },
    {
      "cell_type": "code",
      "execution_count": 56,
      "metadata": {
        "id": "t_I2Q0je9804"
      },
      "outputs": [],
      "source": [
        "df['comment'] = fix_half_space(df['comment'])"
      ]
    },
    {
      "cell_type": "code",
      "execution_count": 57,
      "metadata": {
        "colab": {
          "base_uri": "https://localhost:8080/",
          "height": 423
        },
        "id": "t7_7lccN_sVu",
        "outputId": "eb73a3ff-6a7a-4c2a-9cf3-436a1c90efa2"
      },
      "outputs": [
        {
          "data": {
            "text/html": [
              "<div>\n",
              "<style scoped>\n",
              "    .dataframe tbody tr th:only-of-type {\n",
              "        vertical-align: middle;\n",
              "    }\n",
              "\n",
              "    .dataframe tbody tr th {\n",
              "        vertical-align: top;\n",
              "    }\n",
              "\n",
              "    .dataframe thead th {\n",
              "        text-align: right;\n",
              "    }\n",
              "</style>\n",
              "<table border=\"1\" class=\"dataframe\">\n",
              "  <thead>\n",
              "    <tr style=\"text-align: right;\">\n",
              "      <th></th>\n",
              "      <th>comment</th>\n",
              "      <th>label</th>\n",
              "      <th>label_id</th>\n",
              "    </tr>\n",
              "  </thead>\n",
              "  <tbody>\n",
              "    <tr>\n",
              "      <th>0</th>\n",
              "      <td>واقعا حیف وقت که بنویسم سرویس دهیتون شده افتضاح</td>\n",
              "      <td>SAD</td>\n",
              "      <td>1.0</td>\n",
              "    </tr>\n",
              "    <tr>\n",
              "      <th>1</th>\n",
              "      <td>قرار بود ۱ ساعته برسه ولی نیم ساعت زودتر از مو...</td>\n",
              "      <td>HAPPY</td>\n",
              "      <td>0.0</td>\n",
              "    </tr>\n",
              "    <tr>\n",
              "      <th>2</th>\n",
              "      <td>قیمت این مدل اصلا با کیفیتش سازگاری نداره، فقط...</td>\n",
              "      <td>SAD</td>\n",
              "      <td>1.0</td>\n",
              "    </tr>\n",
              "    <tr>\n",
              "      <th>3</th>\n",
              "      <td>عالللی بود همه چه درست و به اندازه و کیفیت خوب...</td>\n",
              "      <td>HAPPY</td>\n",
              "      <td>0.0</td>\n",
              "    </tr>\n",
              "    <tr>\n",
              "      <th>4</th>\n",
              "      <td>شیرینی وانیلی فقط یک مدل بود.</td>\n",
              "      <td>HAPPY</td>\n",
              "      <td>0.0</td>\n",
              "    </tr>\n",
              "    <tr>\n",
              "      <th>...</th>\n",
              "      <td>...</td>\n",
              "      <td>...</td>\n",
              "      <td>...</td>\n",
              "    </tr>\n",
              "    <tr>\n",
              "      <th>69620</th>\n",
              "      <td>سلام من به فاکتور غذاهایی که سفارش میدم احتیاج...</td>\n",
              "      <td>SAD</td>\n",
              "      <td>1.0</td>\n",
              "    </tr>\n",
              "    <tr>\n",
              "      <th>69621</th>\n",
              "      <td>سایز پیتزا نسبت به سفارشاتی که قبلا گذشتم کم ش...</td>\n",
              "      <td>SAD</td>\n",
              "      <td>1.0</td>\n",
              "    </tr>\n",
              "    <tr>\n",
              "      <th>69622</th>\n",
              "      <td>من قارچ اضافه رو اضافه کرده بودم بودم اما اگر ...</td>\n",
              "      <td>HAPPY</td>\n",
              "      <td>0.0</td>\n",
              "    </tr>\n",
              "    <tr>\n",
              "      <th>69623</th>\n",
              "      <td>همرو بعد ۲ساعت تاخیر اشتباه آوردن پولشم رفت رو...</td>\n",
              "      <td>SAD</td>\n",
              "      <td>1.0</td>\n",
              "    </tr>\n",
              "    <tr>\n",
              "      <th>69624</th>\n",
              "      <td>فلفلش خییییلی تند بود.</td>\n",
              "      <td>HAPPY</td>\n",
              "      <td>0.0</td>\n",
              "    </tr>\n",
              "  </tbody>\n",
              "</table>\n",
              "<p>69107 rows × 3 columns</p>\n",
              "</div>"
            ],
            "text/plain": [
              "                                                 comment  label  label_id\n",
              "0        واقعا حیف وقت که بنویسم سرویس دهیتون شده افتضاح    SAD       1.0\n",
              "1      قرار بود ۱ ساعته برسه ولی نیم ساعت زودتر از مو...  HAPPY       0.0\n",
              "2      قیمت این مدل اصلا با کیفیتش سازگاری نداره، فقط...    SAD       1.0\n",
              "3      عالللی بود همه چه درست و به اندازه و کیفیت خوب...  HAPPY       0.0\n",
              "4                          شیرینی وانیلی فقط یک مدل بود.  HAPPY       0.0\n",
              "...                                                  ...    ...       ...\n",
              "69620  سلام من به فاکتور غذاهایی که سفارش میدم احتیاج...    SAD       1.0\n",
              "69621  سایز پیتزا نسبت به سفارشاتی که قبلا گذشتم کم ش...    SAD       1.0\n",
              "69622  من قارچ اضافه رو اضافه کرده بودم بودم اما اگر ...  HAPPY       0.0\n",
              "69623  همرو بعد ۲ساعت تاخیر اشتباه آوردن پولشم رفت رو...    SAD       1.0\n",
              "69624                             فلفلش خییییلی تند بود.  HAPPY       0.0\n",
              "\n",
              "[69107 rows x 3 columns]"
            ]
          },
          "execution_count": 57,
          "metadata": {},
          "output_type": "execute_result"
        }
      ],
      "source": [
        "df"
      ]
    },
    {
      "cell_type": "code",
      "execution_count": 58,
      "metadata": {
        "id": "8snz8V8hDOi3"
      },
      "outputs": [],
      "source": [
        "df['comment']=remove_stop_words(df['comment'])"
      ]
    },
    {
      "cell_type": "code",
      "execution_count": 59,
      "metadata": {
        "colab": {
          "base_uri": "https://localhost:8080/",
          "height": 423
        },
        "id": "u1hcivMbG1fu",
        "outputId": "3472283b-0686-41b1-9105-d7029cabe25f"
      },
      "outputs": [
        {
          "data": {
            "text/html": [
              "<div>\n",
              "<style scoped>\n",
              "    .dataframe tbody tr th:only-of-type {\n",
              "        vertical-align: middle;\n",
              "    }\n",
              "\n",
              "    .dataframe tbody tr th {\n",
              "        vertical-align: top;\n",
              "    }\n",
              "\n",
              "    .dataframe thead th {\n",
              "        text-align: right;\n",
              "    }\n",
              "</style>\n",
              "<table border=\"1\" class=\"dataframe\">\n",
              "  <thead>\n",
              "    <tr style=\"text-align: right;\">\n",
              "      <th></th>\n",
              "      <th>comment</th>\n",
              "      <th>label</th>\n",
              "      <th>label_id</th>\n",
              "    </tr>\n",
              "  </thead>\n",
              "  <tbody>\n",
              "    <tr>\n",
              "      <th>0</th>\n",
              "      <td>واقعا حیف وقت بنویسم سرویس دهیتون شده افتضاح</td>\n",
              "      <td>SAD</td>\n",
              "      <td>1.0</td>\n",
              "    </tr>\n",
              "    <tr>\n",
              "      <th>1</th>\n",
              "      <td>قرار بود ۱ ساعته برسه ولی نیم ساعت زودتر موقع ...</td>\n",
              "      <td>HAPPY</td>\n",
              "      <td>0.0</td>\n",
              "    </tr>\n",
              "    <tr>\n",
              "      <th>2</th>\n",
              "      <td>قیمت مدل اصلا کیفیتش سازگاری نداره، فقط ظاهر ف...</td>\n",
              "      <td>SAD</td>\n",
              "      <td>1.0</td>\n",
              "    </tr>\n",
              "    <tr>\n",
              "      <th>3</th>\n",
              "      <td>عالللی بود همه چه درست اندازه کیفیت خوب، امیدا...</td>\n",
              "      <td>HAPPY</td>\n",
              "      <td>0.0</td>\n",
              "    </tr>\n",
              "    <tr>\n",
              "      <th>4</th>\n",
              "      <td>شیرینی وانیلی فقط مدل بود.</td>\n",
              "      <td>HAPPY</td>\n",
              "      <td>0.0</td>\n",
              "    </tr>\n",
              "    <tr>\n",
              "      <th>...</th>\n",
              "      <td>...</td>\n",
              "      <td>...</td>\n",
              "      <td>...</td>\n",
              "    </tr>\n",
              "    <tr>\n",
              "      <th>69620</th>\n",
              "      <td>سلام فاکتور غذاهایی سفارش میدم احتیاج دارم موض...</td>\n",
              "      <td>SAD</td>\n",
              "      <td>1.0</td>\n",
              "    </tr>\n",
              "    <tr>\n",
              "      <th>69621</th>\n",
              "      <td>سایز پیتزا نسبت سفارشاتی قبلا گذشتم کم شده بود</td>\n",
              "      <td>SAD</td>\n",
              "      <td>1.0</td>\n",
              "    </tr>\n",
              "    <tr>\n",
              "      <th>69622</th>\n",
              "      <td>قارچ اضافه رو اضافه کرده بودم بودم اما اگر همی...</td>\n",
              "      <td>HAPPY</td>\n",
              "      <td>0.0</td>\n",
              "    </tr>\n",
              "    <tr>\n",
              "      <th>69623</th>\n",
              "      <td>همرو ۲ساعت تاخیر اشتباه آوردن پولشم رفت رو هوا</td>\n",
              "      <td>SAD</td>\n",
              "      <td>1.0</td>\n",
              "    </tr>\n",
              "    <tr>\n",
              "      <th>69624</th>\n",
              "      <td>فلفلش خییییلی تند بود.</td>\n",
              "      <td>HAPPY</td>\n",
              "      <td>0.0</td>\n",
              "    </tr>\n",
              "  </tbody>\n",
              "</table>\n",
              "<p>69107 rows × 3 columns</p>\n",
              "</div>"
            ],
            "text/plain": [
              "                                                 comment  label  label_id\n",
              "0           واقعا حیف وقت بنویسم سرویس دهیتون شده افتضاح    SAD       1.0\n",
              "1      قرار بود ۱ ساعته برسه ولی نیم ساعت زودتر موقع ...  HAPPY       0.0\n",
              "2      قیمت مدل اصلا کیفیتش سازگاری نداره، فقط ظاهر ف...    SAD       1.0\n",
              "3      عالللی بود همه چه درست اندازه کیفیت خوب، امیدا...  HAPPY       0.0\n",
              "4                             شیرینی وانیلی فقط مدل بود.  HAPPY       0.0\n",
              "...                                                  ...    ...       ...\n",
              "69620  سلام فاکتور غذاهایی سفارش میدم احتیاج دارم موض...    SAD       1.0\n",
              "69621     سایز پیتزا نسبت سفارشاتی قبلا گذشتم کم شده بود    SAD       1.0\n",
              "69622  قارچ اضافه رو اضافه کرده بودم بودم اما اگر همی...  HAPPY       0.0\n",
              "69623     همرو ۲ساعت تاخیر اشتباه آوردن پولشم رفت رو هوا    SAD       1.0\n",
              "69624                             فلفلش خییییلی تند بود.  HAPPY       0.0\n",
              "\n",
              "[69107 rows x 3 columns]"
            ]
          },
          "execution_count": 59,
          "metadata": {},
          "output_type": "execute_result"
        }
      ],
      "source": [
        "df"
      ]
    },
    {
      "cell_type": "code",
      "execution_count": 60,
      "metadata": {
        "id": "PzbfO0rnHtrL"
      },
      "outputs": [],
      "source": [
        "df['comment']=remove_consecutive_duplicates2(df['comment'])"
      ]
    },
    {
      "cell_type": "code",
      "execution_count": 61,
      "metadata": {
        "colab": {
          "base_uri": "https://localhost:8080/",
          "height": 423
        },
        "id": "lBmG68ewH7SH",
        "outputId": "ff7b54fa-3b92-4d92-ab48-1364a1fb9edb"
      },
      "outputs": [
        {
          "data": {
            "text/html": [
              "<div>\n",
              "<style scoped>\n",
              "    .dataframe tbody tr th:only-of-type {\n",
              "        vertical-align: middle;\n",
              "    }\n",
              "\n",
              "    .dataframe tbody tr th {\n",
              "        vertical-align: top;\n",
              "    }\n",
              "\n",
              "    .dataframe thead th {\n",
              "        text-align: right;\n",
              "    }\n",
              "</style>\n",
              "<table border=\"1\" class=\"dataframe\">\n",
              "  <thead>\n",
              "    <tr style=\"text-align: right;\">\n",
              "      <th></th>\n",
              "      <th>comment</th>\n",
              "      <th>label</th>\n",
              "      <th>label_id</th>\n",
              "    </tr>\n",
              "  </thead>\n",
              "  <tbody>\n",
              "    <tr>\n",
              "      <th>0</th>\n",
              "      <td>واقعا حیف وقت بنویسم سرویس دهیتون شده افتضاح</td>\n",
              "      <td>SAD</td>\n",
              "      <td>1.0</td>\n",
              "    </tr>\n",
              "    <tr>\n",
              "      <th>1</th>\n",
              "      <td>قرار بود ۱ ساعته برسه ولی نیم ساعت زودتر موقع ...</td>\n",
              "      <td>HAPPY</td>\n",
              "      <td>0.0</td>\n",
              "    </tr>\n",
              "    <tr>\n",
              "      <th>2</th>\n",
              "      <td>قیمت مدل اصلا کیفیتش سازگاری نداره، فقط ظاهر ف...</td>\n",
              "      <td>SAD</td>\n",
              "      <td>1.0</td>\n",
              "    </tr>\n",
              "    <tr>\n",
              "      <th>3</th>\n",
              "      <td>عالی بود همه چه درست اندازه کیفیت خوب، امیداور...</td>\n",
              "      <td>HAPPY</td>\n",
              "      <td>0.0</td>\n",
              "    </tr>\n",
              "    <tr>\n",
              "      <th>4</th>\n",
              "      <td>شیرینی وانیلی فقط مدل بود.</td>\n",
              "      <td>HAPPY</td>\n",
              "      <td>0.0</td>\n",
              "    </tr>\n",
              "    <tr>\n",
              "      <th>...</th>\n",
              "      <td>...</td>\n",
              "      <td>...</td>\n",
              "      <td>...</td>\n",
              "    </tr>\n",
              "    <tr>\n",
              "      <th>69620</th>\n",
              "      <td>سلام فاکتور غذاهای سفارش میدم احتیاج دارم موضو...</td>\n",
              "      <td>SAD</td>\n",
              "      <td>1.0</td>\n",
              "    </tr>\n",
              "    <tr>\n",
              "      <th>69621</th>\n",
              "      <td>سایز پیتزا نسبت سفارشاتی قبلا گذشتم کم شده بود</td>\n",
              "      <td>SAD</td>\n",
              "      <td>1.0</td>\n",
              "    </tr>\n",
              "    <tr>\n",
              "      <th>69622</th>\n",
              "      <td>قارچ اضافه رو اضافه کرده بودم بودم اما اگر همی...</td>\n",
              "      <td>HAPPY</td>\n",
              "      <td>0.0</td>\n",
              "    </tr>\n",
              "    <tr>\n",
              "      <th>69623</th>\n",
              "      <td>همرو ۲ساعت تاخیر اشتباه آوردن پولشم رفت رو هوا</td>\n",
              "      <td>SAD</td>\n",
              "      <td>1.0</td>\n",
              "    </tr>\n",
              "    <tr>\n",
              "      <th>69624</th>\n",
              "      <td>فلفلش خیلی تند بود.</td>\n",
              "      <td>HAPPY</td>\n",
              "      <td>0.0</td>\n",
              "    </tr>\n",
              "  </tbody>\n",
              "</table>\n",
              "<p>69107 rows × 3 columns</p>\n",
              "</div>"
            ],
            "text/plain": [
              "                                                 comment  label  label_id\n",
              "0           واقعا حیف وقت بنویسم سرویس دهیتون شده افتضاح    SAD       1.0\n",
              "1      قرار بود ۱ ساعته برسه ولی نیم ساعت زودتر موقع ...  HAPPY       0.0\n",
              "2      قیمت مدل اصلا کیفیتش سازگاری نداره، فقط ظاهر ف...    SAD       1.0\n",
              "3      عالی بود همه چه درست اندازه کیفیت خوب، امیداور...  HAPPY       0.0\n",
              "4                             شیرینی وانیلی فقط مدل بود.  HAPPY       0.0\n",
              "...                                                  ...    ...       ...\n",
              "69620  سلام فاکتور غذاهای سفارش میدم احتیاج دارم موضو...    SAD       1.0\n",
              "69621     سایز پیتزا نسبت سفارشاتی قبلا گذشتم کم شده بود    SAD       1.0\n",
              "69622  قارچ اضافه رو اضافه کرده بودم بودم اما اگر همی...  HAPPY       0.0\n",
              "69623     همرو ۲ساعت تاخیر اشتباه آوردن پولشم رفت رو هوا    SAD       1.0\n",
              "69624                                فلفلش خیلی تند بود.  HAPPY       0.0\n",
              "\n",
              "[69107 rows x 3 columns]"
            ]
          },
          "execution_count": 61,
          "metadata": {},
          "output_type": "execute_result"
        }
      ],
      "source": [
        "df"
      ]
    },
    {
      "cell_type": "code",
      "execution_count": 62,
      "metadata": {
        "id": "ivxnHV_1Lnix"
      },
      "outputs": [],
      "source": [
        "from sklearn.model_selection import train_test_split"
      ]
    },
    {
      "cell_type": "code",
      "execution_count": 63,
      "metadata": {
        "id": "Y2t8NR4OJhRW"
      },
      "outputs": [],
      "source": [
        "x_train,x_test,y_train,y_test = train_test_split(df['comment'],df['label_id'],test_size=0.2,random_state=17)"
      ]
    },
    {
      "cell_type": "code",
      "execution_count": 64,
      "metadata": {
        "id": "5CCVKxZVLx8A"
      },
      "outputs": [],
      "source": [
        "from sklearn.feature_extraction.text import TfidfVectorizer\n",
        "# Create feature vectors\n",
        "vectorizer = TfidfVectorizer(min_df = 10,\n",
        "                             max_df = 0.9999,\n",
        "                             sublinear_tf = True,\n",
        "                             use_idf = True,binary=True)\n",
        "train_vectors = vectorizer.fit_transform(x_train)\n",
        "test_vectors = vectorizer.transform(x_test)"
      ]
    },
    {
      "cell_type": "code",
      "execution_count": 65,
      "metadata": {
        "colab": {
          "base_uri": "https://localhost:8080/"
        },
        "id": "WqkLpRjCL0yq",
        "outputId": "b0861e22-3441-47ca-be57-4cad47d0d15e"
      },
      "outputs": [
        {
          "name": "stdout",
          "output_type": "stream",
          "text": [
            "positive:  {'precision': 0.907732293697206, 'recall': 0.8078646812201822, 'f1-score': 0.8548917616461409, 'support': 6917.0}\n",
            "negative:  {'precision': 0.8266370988781633, 'recall': 0.9177407675597393, 'f1-score': 0.8698098963695011, 'support': 6905.0}\n"
          ]
        }
      ],
      "source": [
        "from sklearn import svm\n",
        "from sklearn.metrics import classification_report\n",
        "# Perform classification with SVM, kernel=linear\n",
        "classifier_linear = svm.SVC(kernel='rbf')\n",
        "classifier_linear.fit(train_vectors, y_train)\n",
        "prediction_linear = classifier_linear.predict(test_vectors)\n",
        "# results\n",
        "report = classification_report(y_test, prediction_linear, output_dict=True)\n",
        "print('positive: ', report['0.0'])\n",
        "print('negative: ', report['1.0'])"
      ]
    },
    {
      "cell_type": "code",
      "execution_count": null,
      "metadata": {},
      "outputs": [],
      "source": [
        "joblib.dump(vectorizer, 'vectorizer.joblib')\n",
        "joblib.dump(classifier_linear, 'svm_model.joblib')"
      ]
    }
  ],
  "metadata": {
    "accelerator": "GPU",
    "colab": {
      "gpuType": "T4",
      "provenance": []
    },
    "kernelspec": {
      "display_name": "Python 3",
      "name": "python3"
    },
    "language_info": {
      "codemirror_mode": {
        "name": "ipython",
        "version": 3
      },
      "file_extension": ".py",
      "mimetype": "text/x-python",
      "name": "python",
      "nbconvert_exporter": "python",
      "pygments_lexer": "ipython3",
      "version": "3.10.7"
    }
  },
  "nbformat": 4,
  "nbformat_minor": 0
}
